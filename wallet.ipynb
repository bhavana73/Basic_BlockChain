{
 "cells": [
  {
   "cell_type": "code",
   "execution_count": null,
   "metadata": {},
   "outputs": [],
   "source": [
    "import datetime\n",
    "import hashlib\n",
    "import binascii\n",
    "import Crypto\n",
    "import Crypto.Random\n",
    "from Crypto.Hash import SHA\n",
    "from Crypto.PublicKey import RSA\n",
    "from Crypto.Signature import PKCS1_v1_5\n",
    "from flask import Flask,render_template\n",
    "\n",
    "def signature() :\n",
    "    Random_gen=Crypto.Random.new().read\n",
    "    private_key=RSA.generate(1024,Random_gen)\n",
    "    public_key=private_key.publickey()\n",
    "    priv_key=binascii.hexlify(private_key.exportKey(format='DER')).decode('ascii')\n",
    "    pub_key=binascii.hexlify(public_key.exportKey(format='DER')).decode('ascii')\n",
    "    return pub_key,priv_key\n",
    "\n",
    "app=Flask(__name__)\n",
    "\n",
    "@app.route('/generate')\n",
    "def generate() :\n",
    "    pub_key,priv_key=signature()\n",
    "    return render_template(\"keys.html\",priv_key=priv_key,pub_key=pub_key)\n",
    "if __name__==\"__main__\" :\n",
    "     app.run()\n"
   ]
  }
 ],
 "metadata": {
  "kernelspec": {
   "display_name": "Python 3",
   "language": "python",
   "name": "python3"
  },
  "language_info": {
   "codemirror_mode": {
    "name": "ipython",
    "version": 3
   },
   "file_extension": ".py",
   "mimetype": "text/x-python",
   "name": "python",
   "nbconvert_exporter": "python",
   "pygments_lexer": "ipython3",
   "version": "3.6.4"
  }
 },
 "nbformat": 4,
 "nbformat_minor": 2
}
