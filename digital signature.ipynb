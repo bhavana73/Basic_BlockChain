{
 "cells": [
  {
   "cell_type": "code",
   "execution_count": 3,
   "metadata": {},
   "outputs": [
    {
     "name": "stdout",
     "output_type": "stream",
     "text": [
      "########Private KEY ################/n\n",
      "3082025c02010002818100e12088771249c915773f94ba8fc076904b80acebd6902d0c8bf011910aecbf63a318306f350cc73298cfb65d5b7fa8a1913b827975acfbf667f77d17bbb603697ced390858fdd3b4e58ce9cca5d1d9547d7c3947185474a12842ba2e96d8ef4ac818165640a6966578013720deac8f3d28df28af297a10526ac8b946c10e0627020301000102818026d9035370bf74c8947c4f40e63f72f6316131f5bc5fc2b6508b8bac78b323cfa0bc32d76dd317a89e7ff15b28c7dda48bb8362a9968d14dd2e0fd20144f334534b9631d7f3e550d40156fa3aafbb95ddcfb2b20f8554aadde66a757c4125ba5966a192dc94aa4329f0edf9c7791b48ca6aeb3e8e79d572a0a64f9e3fff71a11024100e14c23918073f39a5abb39dade8398bb214db15e26e345f8b8d3a7346c8c48c4ed21058b0ba240a10a8a63f1718ea945c11b0d6d0f630235adccc2fefdd3a7ff024100ffce73a2d7ffc8b4e658d0161e843bb8066ec591cdb14fe867b9bc78ec1164c39b7407b8117d7423d608ff9d18fe90f50026337d0f1b0b51bdb54e56920361d902406f63878a5ea9f55cf152f3edc469e7cf4d4dee4d90887985d94bbbb56d9d8634e6d096bf02477c10a2f77d265870a23c3c9735722053613a4ced99d31c87d2dd02400d086cb5d04174ed5a8b0dd702a9040de52e019ce318f49447ac9be0a14e658eddbdb4a2f9292620a947fe15f7ef085da32b4f16410dc4aede767d4e45d42c49024100c26d0cf8f63b89f82d145ba77363c4124f5aa24d5ad0460298aa4eca3a8eedc3951449adb413f098d858704a0c547f473432d0ae443d0ba04809967c02ccde94\n",
      "########Public KEY ################/n\n",
      "30819f300d06092a864886f70d010101050003818d0030818902818100e12088771249c915773f94ba8fc076904b80acebd6902d0c8bf011910aecbf63a318306f350cc73298cfb65d5b7fa8a1913b827975acfbf667f77d17bbb603697ced390858fdd3b4e58ce9cca5d1d9547d7c3947185474a12842ba2e96d8ef4ac818165640a6966578013720deac8f3d28df28af297a10526ac8b946c10e06270203010001\n",
      "enter amount: \n",
      "45\n",
      "#################Signature#######################/n\n",
      "0b09e49ec9a5617e34c5d5c914a295f1d4e5435b2c48cf08aca6ecfda0664840f953ed94276b08ef70209b2f0b4457e0fc9ce146d58fb2c9ff37a3566d2261e56d862f12ccfbdb1c55c0f43234468d8f3d02bd7c0ead0052f5150bd27751bdb390b57d730ccf66c525c7ddddfa825c394bf8b057ca14ad27d6b3376eedec36bf\n"
     ]
    }
   ],
   "source": [
    "import binascii\n",
    "import Crypto\n",
    "import Crypto.Random\n",
    "from Crypto.Hash import SHA\n",
    "from Crypto.PublicKey import RSA\n",
    "from Crypto.Signature import PKCS1_v1_5\n",
    "\n",
    "Random_gen=Crypto.Random.new().read\n",
    "private_key=RSA.generate(1024,Random_gen)\n",
    "public_key=private_key.publickey()\n",
    "priv_key=binascii.hexlify(private_key.exportKey(format='DER')).decode('ascii')\n",
    "pub_key=binascii.hexlify(public_key.exportKey(format='DER')).decode('ascii')\n",
    "print(\"########Private KEY ################/n\")\n",
    "print (priv_key)\n",
    "print(\"########Public KEY ################/n\")\n",
    "print (pub_key)\n",
    "\n",
    "print(\"enter amount: \")\n",
    "message=input()\n",
    "\n",
    "\n",
    "private_key = RSA.importKey(binascii.unhexlify(priv_key))\n",
    "signer = PKCS1_v1_5.new(private_key)\n",
    "h = SHA.new(str(message).encode('utf8'))\n",
    "\n",
    "print(\"#################Signature#######################/n\")\n",
    "print(binascii.hexlify(signer.sign(h)).decode('ascii'))\n",
    "\n",
    "\n"
   ]
  },
  {
   "cell_type": "code",
   "execution_count": null,
   "metadata": {},
   "outputs": [],
   "source": [
    "\n"
   ]
  }
 ],
 "metadata": {
  "kernelspec": {
   "display_name": "Python 3",
   "language": "python",
   "name": "python3"
  },
  "language_info": {
   "codemirror_mode": {
    "name": "ipython",
    "version": 3
   },
   "file_extension": ".py",
   "mimetype": "text/x-python",
   "name": "python",
   "nbconvert_exporter": "python",
   "pygments_lexer": "ipython3",
   "version": "3.6.4"
  }
 },
 "nbformat": 4,
 "nbformat_minor": 2
}
