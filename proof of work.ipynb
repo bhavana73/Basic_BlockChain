{
 "cells": [
  {
   "cell_type": "code",
   "execution_count": null,
   "metadata": {},
   "outputs": [],
   "source": [
    "def pow(hash):\n",
    "    diff=2\n",
    "    nonce=123\n",
    "    x=''\n",
    "    x=hash\n",
    "    y='0'*diff \n",
    "    print(y)\n",
    "    while x[0:10]!=y:\n",
    "        hash_code = \"{}{}\".format(nonce ,x)\n",
    "        x= hashlib.sha256(hash_code.encode('utf-8')).hexdigest()\n",
    "        nonce=nonce+10\n",
    "    return x ,nonce-10 \n",
    "\n"
   ]
  }
 ],
 "metadata": {
  "kernelspec": {
   "display_name": "Python 3",
   "language": "python",
   "name": "python3"
  },
  "language_info": {
   "codemirror_mode": {
    "name": "ipython",
    "version": 3
   },
   "file_extension": ".py",
   "mimetype": "text/x-python",
   "name": "python",
   "nbconvert_exporter": "python",
   "pygments_lexer": "ipython3",
   "version": "3.6.4"
  }
 },
 "nbformat": 4,
 "nbformat_minor": 2
}
