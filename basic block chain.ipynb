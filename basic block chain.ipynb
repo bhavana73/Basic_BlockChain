{
 "cells": [
  {
   "cell_type": "code",
   "execution_count": null,
   "metadata": {},
   "outputs": [],
   "source": []
  },
  {
   "cell_type": "code",
   "execution_count": null,
   "metadata": {},
   "outputs": [],
   "source": []
  },
  {
   "cell_type": "code",
   "execution_count": null,
   "metadata": {},
   "outputs": [],
   "source": []
  },
  {
   "cell_type": "code",
   "execution_count": 1,
   "metadata": {},
   "outputs": [
    {
     "name": "stdout",
     "output_type": "stream",
     "text": [
      "enter no of blocks :\n",
      "3\n",
      "############block 0\n",
      "\n",
      " 0\n",
      "\n",
      " 2018-06-07 15:09:45.095370\n",
      "\n",
      " hey\n",
      "\n",
      " 0\n",
      "\n",
      " d3417c8ff3a3deedf5b20e7ea622835925ccb3313aa148f6bf126930e6759e03\n",
      "\n",
      " ('30819f300d06092a864886f70d010101050003818d0030818902818100ad066e4b323523a66f2bcd333e639e663a51d79cf9143b3b3040697aaf9aa746142055d0f24adba0ceef2c84d41eb65f34ce1b12281591dc0e8dbd157d548e3bb1b557b0e13075b627b1952cbd32e883209b6ddc5af514ad84aa0223d9fc6977231ae516681ab7810bc8bfee70fff0c193f5fec4602bebbc4366f1947d50ddc30203010001', '3082025b02010002818100ad066e4b323523a66f2bcd333e639e663a51d79cf9143b3b3040697aaf9aa746142055d0f24adba0ceef2c84d41eb65f34ce1b12281591dc0e8dbd157d548e3bb1b557b0e13075b627b1952cbd32e883209b6ddc5af514ad84aa0223d9fc6977231ae516681ab7810bc8bfee70fff0c193f5fec4602bebbc4366f1947d50ddc3020301000102818037b9917e105e82ebd07427f3700d7f6f672b02a920a33e6c529efc19b242b9cadd2288e0f197e0624b234690450cdb2990852cbccd421d26e55d0adfc7ec9a9de0ce41131828a32433c2d530186cb0129662ea7e1b55668c57fb6bdc5381d6c46fedb1166fbedfb011d0d373e9afed8a39e04bf9f7071de2c8b16ffd1f09d771024100bd7713c3e436fc4d413197b4911b2a3998dcc0e264a4398009c3b1c00c9e44d1defa3633b4c8a28d6adb4a09a4368f1637bb5248e0e59030838d5faba27c972b024100e9c96514d0e0bd808a556e636688064ab69a9b41926e16741f8984f881e9ca16ea5fb73765a512b87ec644fe7c9e367a2f81218b946a045787476f75161407c9024056b9de2b4a18bd4ee3abbec4a1b36c95a6da4dd493baf4b31e451ce54b215b61320f18a67c7766a91323c3f53bdcd98c930044ff252b0fe095272e86d33ef2b702407ffffe51f953332e2f8f3ad33d8df833ebea965abe7b7bdbb470acd70afa1fe590093bdd1ecfd4822317172b66bb9104310238859d8ab639de1d648eecb9a6d102405d5b9540468e4e4e3953f0ea1334bc317709bde9fef0ccc169a2974cc884fae75901c6480f169d2321a297ca7475e8e76104ab63994b7052e09cbf86dd286963')\n",
      "############block 1\n",
      "\n",
      " 1\n",
      "\n",
      " 2018-06-07 15:09:45.798638\n",
      "\n",
      " hey\n",
      "\n",
      " d3417c8ff3a3deedf5b20e7ea622835925ccb3313aa148f6bf126930e6759e03\n",
      "\n",
      " ce1c30e12d0bc0bc596b87296bc11f3d28af484693adfdd1ba10df67131bc130\n",
      "\n",
      " ('30819f300d06092a864886f70d010101050003818d0030818902818100b4acf53c8bc8706f41da3de141a246dbdfd79d0f3b3f3be8dce83569ae73e33fe9510356a747865411a874efed37559310cdbe960535dc4ccbebf6f665580ea5748fc6fcd263938c5eeb3913a3e14c49115d8f52c493786798938df78da4285980794800dd0e8d65826ae009a0420f27e9dee2fd0b319ee82f2ca89e6d12e4e10203010001', '3082025c02010002818100b4acf53c8bc8706f41da3de141a246dbdfd79d0f3b3f3be8dce83569ae73e33fe9510356a747865411a874efed37559310cdbe960535dc4ccbebf6f665580ea5748fc6fcd263938c5eeb3913a3e14c49115d8f52c493786798938df78da4285980794800dd0e8d65826ae009a0420f27e9dee2fd0b319ee82f2ca89e6d12e4e102030100010281810085d90808a5a98519f7181df58d7111bb7bf5b8a5fb075a73a58be55df85e640109f0f95f2da7c02cf1b3f18579202026463195ba7ffba9cbbeda7d6786269919d93b0cb9bc5c66ddfe87ea4c6cf2cd6d9a8900b752abea3a68c0ed0c76d357d1f34d04ab63b5bf1fee73644ea044529ab37b02e223e6ab96e50a821fb69adbdd024100b790c29e16d4e528c1019c13383f4e2b4b855c620a3a7650282f262a91365d9ee8bceb029dbec224716ac096cbd27f69a1f5854a739d35aa0f4d83f7cf899dcf024100fbf845fc69016d433aab142641bd382c4b594957c050b43b49f7ae66cb61db2c57a26bd424572ff35d019b1476f458e53b0d7fa5ff1b6471024f67d5f4c02e4f02400ddf81e5e2c1da43d73a60ea4ef0f1de71c9b56eaf6935b1df279911d481b057a72d47f19dac620dd108895f9c2ddf75434943f699804323041f0e9f36ef269f0240666b398f6ae3509566308a052eed89fabf39f0cd01780c7a990b5b519f540c71cec14f9130a05bf65114c9039d829eebb6803b25af376431675dfd78037f6693024041b139af7a4c340998da232dd143d64db3a47b63b16f986492320865a5354beaf7d9e2c941c396db93ed795422e93c68ee7a1fd07127d1a9b801f4734ddf4211')\n",
      "############block 2\n",
      "\n",
      " 2\n",
      "\n",
      " 2018-06-07 15:09:47.088909\n",
      "\n",
      " hey\n",
      "\n",
      " ce1c30e12d0bc0bc596b87296bc11f3d28af484693adfdd1ba10df67131bc130\n",
      "\n",
      " e87267470f341701fedbad1108ee45680c1082aa90554ee2761049225cbf0f6f\n",
      "\n",
      " ('30819f300d06092a864886f70d010101050003818d0030818902818100d7daab8a68f93d2c738a7343271af98fc0cb0c6eebeaf3ee02a11b20a78f8f09d764aab2f6947b636ace261a1ee48b27af136b531d83ea195dc6c1097ea58d03787d5a7a4f78588cac21854fe26d4d8c15b49495afb7b5c50ecc73ce9e197dd9025d98eca09238e59550e751b9fff71cdb13be27bdeee6ddf40cd66728c5b3170203010001', '3082025d02010002818100d7daab8a68f93d2c738a7343271af98fc0cb0c6eebeaf3ee02a11b20a78f8f09d764aab2f6947b636ace261a1ee48b27af136b531d83ea195dc6c1097ea58d03787d5a7a4f78588cac21854fe26d4d8c15b49495afb7b5c50ecc73ce9e197dd9025d98eca09238e59550e751b9fff71cdb13be27bdeee6ddf40cd66728c5b31702030100010281810083b05dfd7863aea5a2ebf1bc236c7a9af0453095af8acd3d050fa30c3e0e00774198a1e7c335fd3d3f18fbf7eda7031ab7de42191825b5b9ba139b0b9edf83725dde3effa4affb6fcc21f26d2a6d462d16244804551dce33fda2cdc3e96bb04c305d0141981788d81624a769f3a06a81bd478338fce4e6a9179ffd725cbec751024100d907c82b54df9cbd4ab48448f45aba544adb7fbb71032eac9299897b1b3f9aaf79e4e63d008dbee9b44222d7cfc654d54fb585254fd2e4016ce01d5cb69fa53f024100fe9cd2306d579913a48a6f09b40ab8b2790ea88d8f06c4c49904d3737c31e1ba937ba060774b9c73c1e26e754c5ebe43c7ee064bf6f153bbf7e685de3550c429024100beedb8ac5e3b6691a4c2104a7a25c31c5acaa5a189f789bd2a2f46a275c34bdb29fa348ee008d336986d4267e7930c98a84a01bb64711c4320bc3d388e34fe5302402543de9fa7e1424e55aecd41a6504b6813bfc97bae8b57114f341d9eb176bb8b0b3af4e6298faf7e61ca3a5080b4fd33fe772004ce47d3f196feee68ef74bac1024034ca5f8176ea6c4956c9c55d12878324bfeeb489972309ac466d6262e20be3f51fc328a175d8f7fb16fd7965babab16048db9caee991437082962460aca26696')\n"
     ]
    }
   ],
   "source": [
    "import datetime\n",
    "import hashlib\n",
    "import binascii\n",
    "import Crypto\n",
    "import Crypto.Random\n",
    "from Crypto.Hash import SHA\n",
    "from Crypto.PublicKey import RSA\n",
    "from Crypto.Signature import PKCS1_v1_5\n",
    "from flask import Flask,render_template\n",
    "    \n",
    "    \n",
    "class block:\n",
    "    def __init__(self,index,time,data,prehash,pk):\n",
    "        self.index=index\n",
    "        self.time=datetime.datetime.now()\n",
    "        self.data=data\n",
    "        self.prehash=prehash\n",
    "        self.pk=pk\n",
    "        \n",
    "    def get_block_hash(self) :   \n",
    "        hash_code = \"{}{}{}{}\".format(self.index, self.time, self.data, self.prehash,self.pk)\n",
    "        x= hashlib.sha256(hash_code.encode('utf-8')).hexdigest()\n",
    "        return x\n",
    "        \n",
    "def genesis_block():\n",
    "    pk=signature()\n",
    "    print(\"enter text block:\")\n",
    "    text=input()\n",
    "    b=block(0,datetime.datetime.now(),text,0,pk)\n",
    "    h=b.get_block_hash()\n",
    "    a=[b.index,b.time,b.data,b.prehash,h,b.pk]\n",
    "    return a\n",
    "    \n",
    "\n",
    "def create_block(index,time,data,prehash,pk):\n",
    "    b=block(index,time,data,prehash,pk)\n",
    "    h=b.get_block_hash()\n",
    "    a=[b.index,b.time,b.data,b.prehash,h,b.pk]\n",
    "    return a\n",
    "\n",
    "def signature() :\n",
    "    Random_gen=Crypto.Random.new().read\n",
    "    private_key=RSA.generate(1024,Random_gen)\n",
    "    public_key=private_key.publickey()\n",
    "    priv_key=binascii.hexlify(private_key.exportKey(format='DER')).decode('ascii')\n",
    "    pub_key=binascii.hexlify(public_key.exportKey(format='DER')).decode('ascii')\n",
    "    return pub_key,priv_key\n",
    "    \n",
    "\n",
    "chain=[]\n",
    "print ('enter no of blocks :')\n",
    "n=int(input())\n",
    "ph=0\n",
    "a=[]\n",
    "for i in range(0,n):\n",
    "   if i==0 :\n",
    "        a=genesis_block()\n",
    "        chain.append(a) \n",
    "        ph=a[4]\n",
    "   else :\n",
    "        pk=signature()\n",
    "        print(\"enter text in block:\")\n",
    "        text=input()\n",
    "        b=create_block(i,datetime.datetime.now(),text,ph,pk)\n",
    "        chain.append(b)\n",
    "        ph=b[4]\n",
    "for i in range (0,n) : \n",
    "  print(\"############block\",i) \n",
    "  for j in range (0,6) :  \n",
    "     print(\"\\n\",chain[i][j])  \n",
    "\n",
    "\n",
    "      \n",
    "        \n"
   ]
  },
  {
   "cell_type": "markdown",
   "metadata": {},
   "source": [
    "##### "
   ]
  },
  {
   "cell_type": "code",
   "execution_count": null,
   "metadata": {},
   "outputs": [],
   "source": []
  },
  {
   "cell_type": "code",
   "execution_count": null,
   "metadata": {},
   "outputs": [],
   "source": []
  },
  {
   "cell_type": "code",
   "execution_count": null,
   "metadata": {},
   "outputs": [],
   "source": []
  },
  {
   "cell_type": "code",
   "execution_count": null,
   "metadata": {},
   "outputs": [],
   "source": []
  },
  {
   "cell_type": "code",
   "execution_count": null,
   "metadata": {},
   "outputs": [],
   "source": []
  },
  {
   "cell_type": "code",
   "execution_count": null,
   "metadata": {},
   "outputs": [],
   "source": []
  },
  {
   "cell_type": "code",
   "execution_count": null,
   "metadata": {},
   "outputs": [],
   "source": []
  },
  {
   "cell_type": "code",
   "execution_count": null,
   "metadata": {},
   "outputs": [],
   "source": []
  },
  {
   "cell_type": "code",
   "execution_count": null,
   "metadata": {},
   "outputs": [],
   "source": []
  },
  {
   "cell_type": "code",
   "execution_count": null,
   "metadata": {},
   "outputs": [],
   "source": []
  }
 ],
 "metadata": {
  "kernelspec": {
   "display_name": "Python 3",
   "language": "python",
   "name": "python3"
  },
  "language_info": {
   "codemirror_mode": {
    "name": "ipython",
    "version": 3
   },
   "file_extension": ".py",
   "mimetype": "text/x-python",
   "name": "python",
   "nbconvert_exporter": "python",
   "pygments_lexer": "ipython3",
   "version": "3.6.4"
  }
 },
 "nbformat": 4,
 "nbformat_minor": 2
}
